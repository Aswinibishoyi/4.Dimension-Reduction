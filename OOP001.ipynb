{
 "cells": [
  {
   "cell_type": "code",
   "execution_count": 74,
   "metadata": {},
   "outputs": [
    {
     "name": "stdout",
     "output_type": "stream",
     "text": [
      "<class '__main__.Circle'>\n"
     ]
    }
   ],
   "source": [
    "class Circle(object):\n",
    "    def __init__(self,radius):\n",
    "        self.radius = radius\n",
    "        \n",
    "    def change_radius(self, radius):\n",
    "        self.radius = radius\n",
    "        \n",
    "    def get_radius(self):\n",
    "        return self.radius\n",
    "    \n",
    "    def area(self,radius):\n",
    "        self.radius = radius\n",
    "        return self.radius*self.radius\n",
    "    \n",
    "print(Circle);"
   ]
  },
  {
   "cell_type": "code",
   "execution_count": 77,
   "metadata": {},
   "outputs": [
    {
     "name": "stdout",
     "output_type": "stream",
     "text": [
      "4\n",
      "0\n",
      "25\n"
     ]
    }
   ],
   "source": [
    "one_circle = Circle(0)\n",
    "another_circle = Circle(0)\n",
    "one_circle.change_radius(4)\n",
    "print(one_circle.get_radius())\n",
    "print(another_circle.get_radius())\n",
    "print(one_circle.area(5))"
   ]
  },
  {
   "cell_type": "code",
   "execution_count": 59,
   "metadata": {},
   "outputs": [
    {
     "name": "stdout",
     "output_type": "stream",
     "text": [
      "<function Door.get_door_area at 0x00000216C09B01E0>\n"
     ]
    }
   ],
   "source": [
    "class Door(object):\n",
    "    def __init__(self):\n",
    "        self.width = 1\n",
    "        self.height = 1\n",
    "        self.open = False\n",
    "        \n",
    "    def get_door_status(self):\n",
    "        return self.open\n",
    "    \n",
    "    def change_state(self):\n",
    "        self.open = not self.open\n",
    "        return self.open\n",
    "        \n",
    "    def scale(self, factor):\n",
    "        self.height *= factor\n",
    "        self.width *= factor\n",
    "        \n",
    "    def get_door_area(self):\n",
    "        return self.width*self.height\n",
    "    \n",
    "    def square_door(self):\n",
    "        return self.width*self.height\n",
    "    \n",
    "print(Door.get_door_area);"
   ]
  },
  {
   "cell_type": "code",
   "execution_count": 60,
   "metadata": {},
   "outputs": [
    {
     "name": "stdout",
     "output_type": "stream",
     "text": [
      "True\n",
      "2.9999999737806395\n",
      "False\n"
     ]
    }
   ],
   "source": [
    "another_door=Door()\n",
    "another_door.scale(1.73205080)\n",
    "another_door.change_state()\n",
    "\n",
    "print(another_door.get_door_status())\n",
    "print(another_door.square_door())\n",
    "print(another_door.change_state())"
   ]
  },
  {
   "cell_type": "code",
   "execution_count": 50,
   "metadata": {},
   "outputs": [],
   "source": [
    "class Rectangle(object):\n",
    "    \"\"\" a rectangle object with a length and a width \"\"\"\n",
    "    def __init__(self, length, width):\n",
    "        self.length = length\n",
    "        self.width = width\n",
    "    def set_length(self, length):\n",
    "        self.length = length\n",
    "    def set_width(self, width):\n",
    "        self.width = width\n",
    "    def area(self):\n",
    "        return self.length*self.width"
   ]
  },
  {
   "cell_type": "code",
   "execution_count": 65,
   "metadata": {},
   "outputs": [],
   "source": [
    "New_Rectangle=Rectangle(4,2)"
   ]
  },
  {
   "cell_type": "code",
   "execution_count": 66,
   "metadata": {},
   "outputs": [
    {
     "name": "stdout",
     "output_type": "stream",
     "text": [
      "8\n"
     ]
    }
   ],
   "source": [
    "print(New_Rectangle.area())"
   ]
  },
  {
   "cell_type": "code",
   "execution_count": null,
   "metadata": {},
   "outputs": [],
   "source": []
  },
  {
   "cell_type": "code",
   "execution_count": null,
   "metadata": {},
   "outputs": [],
   "source": []
  }
 ],
 "metadata": {
  "kernelspec": {
   "display_name": "Python 3",
   "language": "python",
   "name": "python3"
  },
  "language_info": {
   "codemirror_mode": {
    "name": "ipython",
    "version": 3
   },
   "file_extension": ".py",
   "mimetype": "text/x-python",
   "name": "python",
   "nbconvert_exporter": "python",
   "pygments_lexer": "ipython3",
   "version": "3.6.4"
  }
 },
 "nbformat": 4,
 "nbformat_minor": 2
}
